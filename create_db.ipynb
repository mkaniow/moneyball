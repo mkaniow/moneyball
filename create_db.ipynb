{
 "cells": [
  {
   "cell_type": "code",
   "execution_count": 1,
   "metadata": {},
   "outputs": [],
   "source": [
    "import mysql.connector\n",
    "from password import *"
   ]
  },
  {
   "cell_type": "markdown",
   "metadata": {},
   "source": [
    "Connect to db"
   ]
  },
  {
   "cell_type": "code",
   "execution_count": 2,
   "metadata": {},
   "outputs": [],
   "source": [
    "db = mysql.connector.connect(\n",
    "    host='localhost',\n",
    "    user='root',\n",
    "    password=pw,\n",
    "    database='moneyball_db'\n",
    "    )\n",
    "\n",
    "mycursor = db.cursor()"
   ]
  },
  {
   "cell_type": "markdown",
   "metadata": {},
   "source": [
    "Create tables"
   ]
  },
  {
   "cell_type": "code",
   "execution_count": null,
   "metadata": {},
   "outputs": [],
   "source": [
    "mycursor.execute('CREATE TABLE Games (game_id INT NOT NULL PRIMARY KEY,home VARCHAR(3),away VARCHAR(3),pts_home FLOAT,pts_away FLOAT, game_date DATE)')"
   ]
  },
  {
   "cell_type": "code",
   "execution_count": 3,
   "metadata": {},
   "outputs": [],
   "source": [
    "mycursor.execute('CREATE TABLE Game_details (record_id int NOT NULL AUTO_INCREMENT PRIMARY KEY, game_id INT,player VARCHAR(50),minute FLOAT,second FLOAT,fgm FLOAT,fga FLOAT, fg_pct FLOAT, 3pm FLOAT, 3pa FLOAT, 3p_pct FLOAT, ftm FLOAT, fta FLOAT, ft_pct FLOAT, oreb FLOAT, dreb FLOAT, reb FLOAT, ast FLOAT, stl FLOAT, blk FLOAT, tos FLOAT, pf FLOAT, pts FLOAT, plus_minus FLOAT, team VARCHAR(3))')"
   ]
  },
  {
   "cell_type": "code",
   "execution_count": 6,
   "metadata": {},
   "outputs": [],
   "source": [
    "mycursor.execute('CREATE TABLE Players (player_name VARCHAR(50), team_id VARCHAR(3))')"
   ]
  },
  {
   "cell_type": "code",
   "execution_count": null,
   "metadata": {},
   "outputs": [],
   "source": [
    "mycursor.execute('CREATE TABLE Teams (team_id INT, abbreviation VARCHAR(3), nickname VARCHAR(30))')"
   ]
  }
 ],
 "metadata": {
  "kernelspec": {
   "display_name": "venv",
   "language": "python",
   "name": "python3"
  },
  "language_info": {
   "codemirror_mode": {
    "name": "ipython",
    "version": 3
   },
   "file_extension": ".py",
   "mimetype": "text/x-python",
   "name": "python",
   "nbconvert_exporter": "python",
   "pygments_lexer": "ipython3",
   "version": "3.10.4"
  }
 },
 "nbformat": 4,
 "nbformat_minor": 2
}
